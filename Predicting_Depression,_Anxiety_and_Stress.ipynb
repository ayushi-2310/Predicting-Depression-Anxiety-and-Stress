{
  "nbformat": 4,
  "nbformat_minor": 0,
  "metadata": {
    "colab": {
      "name": "Predicting Depression, Anxiety and Stress.ipynb",
      "provenance": [],
      "authorship_tag": "ABX9TyMMmK61bi4i4FKXMmzv6knn",
      "include_colab_link": true
    },
    "kernelspec": {
      "name": "python3",
      "display_name": "Python 3"
    },
    "language_info": {
      "name": "python"
    }
  },
  "cells": [
    {
      "cell_type": "markdown",
      "metadata": {
        "id": "view-in-github",
        "colab_type": "text"
      },
      "source": [
        "<a href=\"https://colab.research.google.com/github/sanjana1391/Predicting-Depression-Anxiety-and-Stress/blob/main/Predicting_Depression%2C_Anxiety_and_Stress.ipynb\" target=\"_parent\"><img src=\"https://colab.research.google.com/assets/colab-badge.svg\" alt=\"Open In Colab\"/></a>"
      ]
    },
    {
      "cell_type": "markdown",
      "metadata": {
        "id": "24Ag__9BbUUU"
      },
      "source": [
        "# [**Predicting Depression, Anxiety and Stress**](https://https://github.com/sanjana1391/Predicting-Depression-Anxiety-and-Stress)\n",
        "\n",
        "\n",
        "\n",
        "\n",
        "\n",
        "\n",
        "\n",
        "\n"
      ]
    },
    {
      "cell_type": "markdown",
      "metadata": {
        "id": "ckJxaoEdbe1_"
      },
      "source": [
        "##**Mini Project**\n",
        "\n",
        "**TEAM NAME: Decode'N Morse**\n",
        "\n",
        "TEAM MEMBERS: \n",
        "\n",
        "1.   **Ayushi Gupta** 1900321290024\n",
        "2.   **Sanjana Jain** 1900321290053\n",
        "\n",
        "\n",
        "\n"
      ]
    },
    {
      "cell_type": "markdown",
      "metadata": {
        "id": "nfSZ9R2Kb9B6"
      },
      "source": [
        "**Introduction:**\n",
        "\n",
        "The Taylor Manifest Anxiety Scale was first developed in 1953 to identify Individuals who would be good subjects for studies of stress and other related psychological phenomenon. Since then it has been used as a measure of anxiety as general personality trait. \n",
        "\n",
        "Anxiety is a complex psychological construct that includes a multiple of different facets related to extensive worrying that may impair normal functioning.\n",
        "\n"
      ]
    },
    {
      "cell_type": "code",
      "metadata": {
        "id": "wscC4_FNb8kO"
      },
      "source": [
        ""
      ],
      "execution_count": null,
      "outputs": []
    },
    {
      "cell_type": "code",
      "metadata": {
        "id": "dNpQuiC2b6ob"
      },
      "source": [
        ""
      ],
      "execution_count": null,
      "outputs": []
    }
  ]
}